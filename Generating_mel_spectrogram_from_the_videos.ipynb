{
  "nbformat": 4,
  "nbformat_minor": 0,
  "metadata": {
    "colab": {
      "provenance": []
    },
    "kernelspec": {
      "name": "python3",
      "display_name": "Python 3"
    },
    "language_info": {
      "name": "python"
    }
  },
  "cells": [
    {
      "cell_type": "code",
      "execution_count": null,
      "metadata": {
        "id": "Bhuuh-5rXhC8"
      },
      "outputs": [],
      "source": [
        "from google.colab import drive\n",
        "drive.mount('/content/drive')"
      ]
    },
    {
      "cell_type": "code",
      "source": [
        "import os\n",
        "os.chdir('/content/drive/MyDrive/app/NLP/generating mel/')"
      ],
      "metadata": {
        "id": "fKrpnzeoXnnD"
      },
      "execution_count": null,
      "outputs": []
    },
    {
      "cell_type": "code",
      "source": [
        "import librosa\n",
        "import librosa.display\n",
        "import numpy as np\n",
        "from PIL import Image\n",
        "from numpy import asarray\n",
        "import matplotlib.pyplot as plt\n",
        "data_folder='/content/drive/MyDrive/app/NLP/generating mel/dataset/'\n",
        "save_folder='/content/drive/MyDrive/app/NLP/generating mel/output/'\n",
        "for k in range(115):\n",
        "    k=k+1\n",
        "    filename=data_folder+str(k)+'.mp4'\n",
        "    y, sr = librosa.load(filename)\n",
        "    S = librosa.feature.melspectrogram(y, sr=sr)\n",
        "    S_dB = librosa.power_to_db(S, ref=np.max)\n",
        "    img = librosa.display.specshow(S_dB, sr=sr)\n",
        "    save_mel_name=save_folder+str(k)+'.jpg'\n",
        "    plt.savefig(save_mel_name, transparent=True, bbox_inches='tight', pad_inches=0)"
      ],
      "metadata": {
        "id": "1lmQpTTgXqQU"
      },
      "execution_count": null,
      "outputs": []
    }
  ]
}